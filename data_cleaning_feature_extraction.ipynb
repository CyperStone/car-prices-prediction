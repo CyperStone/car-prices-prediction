{
 "cells": [
  {
   "cell_type": "code",
   "execution_count": 1,
   "metadata": {
    "collapsed": true,
    "ExecuteTime": {
     "start_time": "2023-05-07T12:00:02.374491Z",
     "end_time": "2023-05-07T12:00:02.787830Z"
    }
   },
   "outputs": [],
   "source": [
    "import os\n",
    "import re\n",
    "import numpy as np\n",
    "import pandas as pd\n",
    "from geopy import Nominatim\n",
    "from currency_converter import CurrencyConverter\n",
    "from config import preprocessing as preprocessing_cfg"
   ]
  },
  {
   "cell_type": "markdown",
   "source": [
    "### Data loading"
   ],
   "metadata": {
    "collapsed": false
   }
  },
  {
   "cell_type": "code",
   "execution_count": 2,
   "outputs": [],
   "source": [
    "data_path = './data'\n",
    "filename = 'otomoto_all_offers_pl_23-04-2023_13-14-37.csv'"
   ],
   "metadata": {
    "collapsed": false,
    "ExecuteTime": {
     "start_time": "2023-05-07T12:00:02.787830Z",
     "end_time": "2023-05-07T12:00:02.804073Z"
    }
   }
  },
  {
   "cell_type": "code",
   "execution_count": 3,
   "outputs": [
    {
     "name": "stderr",
     "output_type": "stream",
     "text": [
      "C:\\Users\\szyko\\AppData\\Local\\Temp\\ipykernel_3304\\3515201177.py:1: DtypeWarning: Columns (192,217,246) have mixed types. Specify dtype option on import or set low_memory=False.\n",
      "  df_raw = pd.read_csv(os.path.join(data_path, filename), sep=';', parse_dates=['data_utworzenia_oferty'])\n"
     ]
    },
    {
     "data": {
      "text/plain": "           id                                                url  \\\n0  6106252111  https://www.otomoto.pl/oferta/volvo-v70-podgrz...   \n1  6103725874  https://www.otomoto.pl/oferta/honda-accord-acc...   \n2  6109470482  https://www.otomoto.pl/oferta/mercedes-benz-kl...   \n3  6108732545  https://www.otomoto.pl/oferta/toyota-avensis-o...   \n4  6108048263  https://www.otomoto.pl/oferta/ford-c-max-2012r...   \n\n  data_utworzenia_oferty                               tytul_oferty    cena  \\\n0    2023-04-20 14:52:00                                  Volvo V70   23200   \n1    2023-04-21 06:44:00                   Honda Accord 2.0 Comfort   16800   \n2    2023-04-15 14:38:00  Mercedes-Benz Klasa X 350 d 4-Matic Power  249900   \n3    2023-04-13 16:11:00               Toyota Avensis 1.8 VVT-i Sol   16499   \n4    2023-04-17 15:15:00      Ford C-MAX 2.0 TDCi Champions Edition   29900   \n\n  waluta         nazwa_sprzedawcy  typ_sprzedawcy  rok_rejestracji_sprzedawcy  \\\n0    PLN    Blaupoint Auto Handel          Dealer                        2015   \n1    PLN                      NaN  Osoba prywatna                        2020   \n2    PLN  FIRMA HANDLOWO-USŁUGOWA          Dealer                        2007   \n3    PLN         P.H.U ''DaWeKi''          Dealer                        2011   \n4    PLN         Auto Komis Kozik          Dealer                        2013   \n\n                                         lokalizacja  ...  \\\n0  Łużycka 14B - 72-600 Świnoujście, Zachodniopom...  ...   \n1      Inowrocław, inowrocławski, Kujawsko-pomorskie  ...   \n2  OLSZYNY-192 - 32-831 Olszyny, gm. Wojnicz, tar...  ...   \n3  Grodzka 113 - 87-800 Włocławek, Kujawsko-pomor...  ...   \n4  Orchów 172A - 98-100 Łask, łaski, Łódzkie (Pol...  ...   \n\n  drugi_szyberdach_szklany_przesuwny_i_uchylny_el hardtop pojemnosc_baterii  \\\n0                                             NaN     NaN               NaN   \n1                                             NaN     NaN               NaN   \n2                                             NaN     NaN               NaN   \n3                                             NaN     NaN               NaN   \n4                                             NaN     NaN               NaN   \n\n  autonomia kierownica_po_prawej_anglik orurowanie_przednie  \\\n0       NaN                         NaN                 NaN   \n1       NaN                         NaN                 NaN   \n2       NaN                         NaN                 NaN   \n3       NaN                         NaN                 NaN   \n4       NaN                         NaN                 NaN   \n\n   fotele_tylne_z_funkcje_masazu hamulce_z_kompozytow_ceramicznych  \\\n0                            NaN                               NaN   \n1                            NaN                               NaN   \n2                            NaN                               NaN   \n3                            NaN                               NaN   \n4                            NaN                               NaN   \n\n  opony_off-road czas_ladowania  \n0            NaN            NaN  \n1            NaN            NaN  \n2            NaN            NaN  \n3            NaN            NaN  \n4            NaN            NaN  \n\n[5 rows x 247 columns]",
      "text/html": "<div>\n<style scoped>\n    .dataframe tbody tr th:only-of-type {\n        vertical-align: middle;\n    }\n\n    .dataframe tbody tr th {\n        vertical-align: top;\n    }\n\n    .dataframe thead th {\n        text-align: right;\n    }\n</style>\n<table border=\"1\" class=\"dataframe\">\n  <thead>\n    <tr style=\"text-align: right;\">\n      <th></th>\n      <th>id</th>\n      <th>url</th>\n      <th>data_utworzenia_oferty</th>\n      <th>tytul_oferty</th>\n      <th>cena</th>\n      <th>waluta</th>\n      <th>nazwa_sprzedawcy</th>\n      <th>typ_sprzedawcy</th>\n      <th>rok_rejestracji_sprzedawcy</th>\n      <th>lokalizacja</th>\n      <th>...</th>\n      <th>drugi_szyberdach_szklany_przesuwny_i_uchylny_el</th>\n      <th>hardtop</th>\n      <th>pojemnosc_baterii</th>\n      <th>autonomia</th>\n      <th>kierownica_po_prawej_anglik</th>\n      <th>orurowanie_przednie</th>\n      <th>fotele_tylne_z_funkcje_masazu</th>\n      <th>hamulce_z_kompozytow_ceramicznych</th>\n      <th>opony_off-road</th>\n      <th>czas_ladowania</th>\n    </tr>\n  </thead>\n  <tbody>\n    <tr>\n      <th>0</th>\n      <td>6106252111</td>\n      <td>https://www.otomoto.pl/oferta/volvo-v70-podgrz...</td>\n      <td>2023-04-20 14:52:00</td>\n      <td>Volvo V70</td>\n      <td>23200</td>\n      <td>PLN</td>\n      <td>Blaupoint Auto Handel</td>\n      <td>Dealer</td>\n      <td>2015</td>\n      <td>Łużycka 14B - 72-600 Świnoujście, Zachodniopom...</td>\n      <td>...</td>\n      <td>NaN</td>\n      <td>NaN</td>\n      <td>NaN</td>\n      <td>NaN</td>\n      <td>NaN</td>\n      <td>NaN</td>\n      <td>NaN</td>\n      <td>NaN</td>\n      <td>NaN</td>\n      <td>NaN</td>\n    </tr>\n    <tr>\n      <th>1</th>\n      <td>6103725874</td>\n      <td>https://www.otomoto.pl/oferta/honda-accord-acc...</td>\n      <td>2023-04-21 06:44:00</td>\n      <td>Honda Accord 2.0 Comfort</td>\n      <td>16800</td>\n      <td>PLN</td>\n      <td>NaN</td>\n      <td>Osoba prywatna</td>\n      <td>2020</td>\n      <td>Inowrocław, inowrocławski, Kujawsko-pomorskie</td>\n      <td>...</td>\n      <td>NaN</td>\n      <td>NaN</td>\n      <td>NaN</td>\n      <td>NaN</td>\n      <td>NaN</td>\n      <td>NaN</td>\n      <td>NaN</td>\n      <td>NaN</td>\n      <td>NaN</td>\n      <td>NaN</td>\n    </tr>\n    <tr>\n      <th>2</th>\n      <td>6109470482</td>\n      <td>https://www.otomoto.pl/oferta/mercedes-benz-kl...</td>\n      <td>2023-04-15 14:38:00</td>\n      <td>Mercedes-Benz Klasa X 350 d 4-Matic Power</td>\n      <td>249900</td>\n      <td>PLN</td>\n      <td>FIRMA HANDLOWO-USŁUGOWA</td>\n      <td>Dealer</td>\n      <td>2007</td>\n      <td>OLSZYNY-192 - 32-831 Olszyny, gm. Wojnicz, tar...</td>\n      <td>...</td>\n      <td>NaN</td>\n      <td>NaN</td>\n      <td>NaN</td>\n      <td>NaN</td>\n      <td>NaN</td>\n      <td>NaN</td>\n      <td>NaN</td>\n      <td>NaN</td>\n      <td>NaN</td>\n      <td>NaN</td>\n    </tr>\n    <tr>\n      <th>3</th>\n      <td>6108732545</td>\n      <td>https://www.otomoto.pl/oferta/toyota-avensis-o...</td>\n      <td>2023-04-13 16:11:00</td>\n      <td>Toyota Avensis 1.8 VVT-i Sol</td>\n      <td>16499</td>\n      <td>PLN</td>\n      <td>P.H.U ''DaWeKi''</td>\n      <td>Dealer</td>\n      <td>2011</td>\n      <td>Grodzka 113 - 87-800 Włocławek, Kujawsko-pomor...</td>\n      <td>...</td>\n      <td>NaN</td>\n      <td>NaN</td>\n      <td>NaN</td>\n      <td>NaN</td>\n      <td>NaN</td>\n      <td>NaN</td>\n      <td>NaN</td>\n      <td>NaN</td>\n      <td>NaN</td>\n      <td>NaN</td>\n    </tr>\n    <tr>\n      <th>4</th>\n      <td>6108048263</td>\n      <td>https://www.otomoto.pl/oferta/ford-c-max-2012r...</td>\n      <td>2023-04-17 15:15:00</td>\n      <td>Ford C-MAX 2.0 TDCi Champions Edition</td>\n      <td>29900</td>\n      <td>PLN</td>\n      <td>Auto Komis Kozik</td>\n      <td>Dealer</td>\n      <td>2013</td>\n      <td>Orchów 172A - 98-100 Łask, łaski, Łódzkie (Pol...</td>\n      <td>...</td>\n      <td>NaN</td>\n      <td>NaN</td>\n      <td>NaN</td>\n      <td>NaN</td>\n      <td>NaN</td>\n      <td>NaN</td>\n      <td>NaN</td>\n      <td>NaN</td>\n      <td>NaN</td>\n      <td>NaN</td>\n    </tr>\n  </tbody>\n</table>\n<p>5 rows × 247 columns</p>\n</div>"
     },
     "execution_count": 3,
     "metadata": {},
     "output_type": "execute_result"
    }
   ],
   "source": [
    "df_raw = pd.read_csv(os.path.join(data_path, filename), sep=';', parse_dates=['data_utworzenia_oferty'])\n",
    "df_raw.head()"
   ],
   "metadata": {
    "collapsed": false,
    "ExecuteTime": {
     "start_time": "2023-05-07T12:00:02.804073Z",
     "end_time": "2023-05-07T12:00:10.075077Z"
    }
   }
  },
  {
   "cell_type": "code",
   "execution_count": 4,
   "outputs": [
    {
     "name": "stdout",
     "output_type": "stream",
     "text": [
      "<class 'pandas.core.frame.DataFrame'>\n",
      "RangeIndex: 208205 entries, 0 to 208204\n",
      "Data columns (total 247 columns):\n",
      " #    Column                                               Non-Null Count   Dtype         \n",
      "---   ------                                               --------------   -----         \n",
      " 0    id                                                   208205 non-null  int64         \n",
      " 1    url                                                  208205 non-null  object        \n",
      " 2    data_utworzenia_oferty                               208205 non-null  datetime64[ns]\n",
      " 3    tytul_oferty                                         208205 non-null  object        \n",
      " 4    cena                                                 208205 non-null  int64         \n",
      " 5    waluta                                               208205 non-null  object        \n",
      " 6    nazwa_sprzedawcy                                     202912 non-null  object        \n",
      " 7    typ_sprzedawcy                                       208205 non-null  object        \n",
      " 8    rok_rejestracji_sprzedawcy                           208205 non-null  int64         \n",
      " 9    lokalizacja                                          208205 non-null  object        \n",
      " 10   oferta_od                                            208205 non-null  object        \n",
      " 11   kategoria                                            208205 non-null  object        \n",
      " 12   pokaz_oferty_z_numerem_vin                           195839 non-null  object        \n",
      " 13   marka_pojazdu                                        208205 non-null  object        \n",
      " 14   model_pojazdu                                        208205 non-null  object        \n",
      " 15   generacja                                            145529 non-null  object        \n",
      " 16   rok_produkcji                                        208205 non-null  int64         \n",
      " 17   przebieg                                             206873 non-null  object        \n",
      " 18   pojemnosc_skokowa                                    204714 non-null  object        \n",
      " 19   rodzaj_paliwa                                        208205 non-null  object        \n",
      " 20   moc                                                  208073 non-null  object        \n",
      " 21   skrzynia_biegow                                      208071 non-null  object        \n",
      " 22   typ_nadwozia                                         208205 non-null  object        \n",
      " 23   liczba_drzwi                                         206972 non-null  float64       \n",
      " 24   liczba_miejsc                                        197242 non-null  float64       \n",
      " 25   kolor                                                208205 non-null  object        \n",
      " 26   vat_marza                                            56120 non-null   object        \n",
      " 27   mozliwosc_finansowania                               73690 non-null   object        \n",
      " 28   stan                                                 208205 non-null  object        \n",
      " 29   opis_oferty                                          203916 non-null  object        \n",
      " 30   wersja                                               141211 non-null  object        \n",
      " 31   spalanie_w_miescie                                   121022 non-null  object        \n",
      " 32   rodzaj_koloru                                        145451 non-null  object        \n",
      " 33   radio                                                168196 non-null  object        \n",
      " 34   system_nawigacji_satelitarnej                        78906 non-null   object        \n",
      " 35   system_naglosnienia                                  66594 non-null   object        \n",
      " 36   ekran_dotykowy                                       53565 non-null   object        \n",
      " 37   klimatyzacja_automatyczna                            74410 non-null   object        \n",
      " 38   tapicerka_czesciowo_skorzana                         17989 non-null   object        \n",
      " 39   podlokietniki_przod                                  114848 non-null  object        \n",
      " 40   podlokietniki_tyl                                    76736 non-null   object        \n",
      " 41   kierownica_skorzana                                  132536 non-null  object        \n",
      " 42   kierownica_ze_sterowaniem_radia                      100885 non-null  object        \n",
      " 43   kierownica_wielofunkcyjna                            116462 non-null  object        \n",
      " 44   elektryczne_szyby_przednie                           171062 non-null  object        \n",
      " 45   elektryczne_szyby_tylne                              131387 non-null  object        \n",
      " 46   tempomat                                             104949 non-null  object        \n",
      " 47   lusterka_boczne_ustawiane_elektrycznie               147574 non-null  object        \n",
      " 48   podgrzewane_lusterka_boczne                          139318 non-null  object        \n",
      " 49   kontrola_trakcji                                     135519 non-null  object        \n",
      " 50   wspomaganie_kierownicy                               145562 non-null  object        \n",
      " 51   felgi_aluminiowe_16                                  33386 non-null   object        \n",
      " 52   opony_letnie                                         19608 non-null   object        \n",
      " 53   abs                                                  176033 non-null  object        \n",
      " 54   system_wspomagania_hamowania                         90604 non-null   object        \n",
      " 55   poduszka_powietrzna_kierowcy                         165385 non-null  object        \n",
      " 56   poduszka_powietrzna_pasazera                         174511 non-null  object        \n",
      " 57   kurtyny_powietrzne_przod                             130810 non-null  object        \n",
      " 58   boczna_poduszka_powietrzna_kierowcy                  78843 non-null   object        \n",
      " 59   boczne_poduszki_powietrzne_przod                     149758 non-null  object        \n",
      " 60   boczne_poduszki_powietrzne_tyl                       29920 non-null   object        \n",
      " 61   naped                                                173138 non-null  object        \n",
      " 62   zarejestrowany_w_polsce                              110777 non-null  object        \n",
      " 63   pierwszy_wlasciciel_od_nowosci                       53292 non-null   object        \n",
      " 64   bezwypadkowy                                         117093 non-null  object        \n",
      " 65   serwisowany_w_aso                                    92020 non-null   object        \n",
      " 66   homologacja_ciezarowa                                1002 non-null    object        \n",
      " 67   zestaw_glosnomowiacy                                 82845 non-null   object        \n",
      " 68   gniazdo_usb                                          119996 non-null  object        \n",
      " 69   elektrycznie_ustawiany_fotel_kierowcy                49644 non-null   object        \n",
      " 70   elektrycznie_ustawiany_fotel_pasazera                38658 non-null   object        \n",
      " 71   zmiana_biegow_w_kierownicy                           27419 non-null   object        \n",
      " 72   dzwignia_zmiany_biegow_wykonczona_skora              63316 non-null   object        \n",
      " 73   keyless_go                                           44177 non-null   object        \n",
      " 74   czujnik_deszczu                                      108258 non-null  object        \n",
      " 75   lampy_przednie_w_technologii_led                     42289 non-null   object        \n",
      " 76   kontrola_odleglosci_z_przodu_przy_parkowaniu         61609 non-null   object        \n",
      " 77   kontrola_odleglosci_z_tylu_przy_parkowaniu           103187 non-null  object        \n",
      " 78   kamera_panoramiczna_360                              9305 non-null    object        \n",
      " 79   kamera_parkowania_tyl                                62092 non-null   object        \n",
      " 80   lusterka_boczne_skladane_elektrycznie                68538 non-null   object        \n",
      " 81   kamera_w_lusterku_bocznym                            9862 non-null    object        \n",
      " 82   lane_assist_kontrola_zmiany_pasa_ruchu               42824 non-null   object        \n",
      " 83   automatyczna_kontrola_zjazdu_ze_stoku                17317 non-null   object        \n",
      " 84   wspomaganie_ruszania_pod_gorehill_holder             69954 non-null   object        \n",
      " 85   system_rozpoznawania_znakow_drogowych                30676 non-null   object        \n",
      " 86   czujnik_zmierzchu                                    91462 non-null   object        \n",
      " 87   swiatla_do_jazdy_dziennej                            81769 non-null   object        \n",
      " 88   swiatla_do_jazdy_dziennej_diodowe_led                73075 non-null   object        \n",
      " 89   lampy_przeciwmgielne                                 118736 non-null  object        \n",
      " 90   lampy_tylne_w_technologii_led                        57181 non-null   object        \n",
      " 91   system_start/stop                                    77318 non-null   object        \n",
      " 92   elektroniczna_kontrola_cisnienia_w_oponach           85945 non-null   object        \n",
      " 93   blokada_mechanizmu_roznicowego                       9539 non-null    object        \n",
      " 94   felgi_aluminiowe_18                                  25867 non-null   object        \n",
      " 95   zawieszenie_komfortowe                               16416 non-null   object        \n",
      " 96   esp                                                  161108 non-null  object        \n",
      " 97   aktywny_asystent_hamowania_awaryjnego                18333 non-null   object        \n",
      " 98   system_powiadamiania_o_wypadku                       21908 non-null   object        \n",
      " 99   poduszka_kolan_pasazera                              38616 non-null   object        \n",
      " 100  isofix_punkty_mocowania_fotelika_dzieciecego         143376 non-null  object        \n",
      " 101  emisja_co2                                           10574 non-null   object        \n",
      " 102  kraj_pochodzenia                                     134358 non-null  object        \n",
      " 103  data_pierwszej_rejestracji_w_historii_pojazdu        99802 non-null   object        \n",
      " 104  klimatyzacja_automatyczna_dwustrefowa                54024 non-null   object        \n",
      " 105  tapicerka_materialowa                                86415 non-null   object        \n",
      " 106  poduszka_kolan_kierowcy                              29925 non-null   object        \n",
      " 107  ma_numer_rejestracyjny                               73066 non-null   object        \n",
      " 108  filtr_czastek_stalych                                23068 non-null   object        \n",
      " 109  numer_rejestracyjny_pojazdu                          72066 non-null   object        \n",
      " 110  interfejs_bluetooth                                  114585 non-null  object        \n",
      " 111  klimatyzacja_manualna                                40721 non-null   object        \n",
      " 112  rolety_na_bocznych_szybach_opuszczane_recznie        7174 non-null    object        \n",
      " 113  wycieraczki                                          49258 non-null   object        \n",
      " 114  opony_zimowe                                         10550 non-null   object        \n",
      " 115  elektroniczny_system_rozdzialu_sily_hamowania        63549 non-null   object        \n",
      " 116  kurtyny_powietrzne_tyl                               66081 non-null   object        \n",
      " 117  leasing                                              32810 non-null   object        \n",
      " 118  faktura_vat                                          56581 non-null   object        \n",
      " 119  przyciemniane_tylne_szyby                            80602 non-null   object        \n",
      " 120  spryskiwacze_reflektorow                             37805 non-null   object        \n",
      " 121  lampy_doswietlajace_zakret                           38075 non-null   object        \n",
      " 122  felgi_aluminiowe_17                                  16943 non-null   object        \n",
      " 123  poduszka_powietrzna_centralna                        12877 non-null   object        \n",
      " 124  poduszki_powietrzne_czolowe_tyl                      9411 non-null    object        \n",
      " 125  elektryczny_hamulec_postojowy                        47234 non-null   object        \n",
      " 126  podgrzewany_fotel_kierowcy                           85838 non-null   object        \n",
      " 127  podgrzewany_fotel_pasazera                           82304 non-null   object        \n",
      " 128  apple_carplay                                        32442 non-null   object        \n",
      " 129  android_auto                                         36034 non-null   object        \n",
      " 130  kierownica_ogrzewana                                 20552 non-null   object        \n",
      " 131  ogranicznik_predkosci                                45085 non-null   object        \n",
      " 132  uszkodzony                                           12065 non-null   object        \n",
      " 133  kierownica_sportowa                                  34291 non-null   object        \n",
      " 134  felgi_stalowe                                        20479 non-null   object        \n",
      " 135  okres_gwarancji_producenta                           5483 non-null    object        \n",
      " 136  asystent_hamowania_brake_assist                      32530 non-null   object        \n",
      " 137  aktywne_rozpoznawanie_znakow_ograniczenia_predkosci  13826 non-null   object        \n",
      " 138  oswietlenie_drogi_do_domu                            36233 non-null   object        \n",
      " 139  system_wykrywania_zmeczenie_kierowcy                 16675 non-null   object        \n",
      " 140  asystent_pasa_ruchu                                  22059 non-null   object        \n",
      " 141  system_zabezpieczajacy_podczas_dachowania            4773 non-null    object        \n",
      " 142  ladowanie_bezprzewodowe_urzadzen                     11770 non-null   object        \n",
      " 143  sterowanie_funkcjami_pojazdu_za_pomoca_glosu         19892 non-null   object        \n",
      " 144  klimatyzacja_automatyczna_4_lub_wiecej_strefowa      4159 non-null    object        \n",
      " 145  tapicerka_skorzana                                   41192 non-null   object        \n",
      " 146  klimatyzacja_dla_pasazerow_z_tylu                    18067 non-null   object        \n",
      " 147  regul_elektr_podparcia_ledzwiowego_kierowca          36048 non-null   object        \n",
      " 148  regul_elektr_podparcia_ledzwiowego_pasazer           23932 non-null   object        \n",
      " 149  siedzenie_z_pamiecia_ustawienia                      23305 non-null   object        \n",
      " 150  cyfrowy_kluczyk                                      12227 non-null   object        \n",
      " 151  uruchamianie_silnika_bez_uzycia_kluczykow            32311 non-null   object        \n",
      " 152  ogrzewanie_postojowe                                 6289 non-null    object        \n",
      " 153  automatyczna_kontrola_ogrzewania                     8327 non-null    object        \n",
      " 154  lampy_ksenonowe                                      12652 non-null   object        \n",
      " 155  asystent_czujnik_martwego_pola                       24162 non-null   object        \n",
      " 156  aktywny_asystent_zmiany_pasa_ruchu                   14556 non-null   object        \n",
      " 157  kontrola_odleglosci_od_poprzedzajacego_pojazdu       22250 non-null   object        \n",
      " 158  asystent_pokonywania_zakretow                        5492 non-null    object        \n",
      " 159  asystent_swiatel_drogowych                           34735 non-null   object        \n",
      " 160  asystent_hamowania_awaryjnego_w_miescie              14570 non-null   object        \n",
      " 161  system_ostrzegajacy_o_mozliwej_kolizji               24530 non-null   object        \n",
      " 162  system_rekomendacji_przerw_podczas_trasy             8238 non-null    object        \n",
      " 163  system_minimalizujacy_skutki_kolizji                 20985 non-null   object        \n",
      " 164  vin                                                  4259 non-null    object        \n",
      " 165  podgrzewana_przednia_szyba                           24922 non-null   object        \n",
      " 166  dostep_do_internetu                                  20279 non-null   object        \n",
      " 167  fotele_przednie_wentylowane                          9003 non-null    object        \n",
      " 168  lampy_bi-ksenonowe                                   15037 non-null   object        \n",
      " 169  oswietlenie_adaptacyjne                              15872 non-null   object        \n",
      " 170  dynamiczne_swiatla_doswietlajace_zakrety             14776 non-null   object        \n",
      " 171  felgi_aluminiowe_19                                  11417 non-null   object        \n",
      " 172  szyberdach_szklany_przesuwny_i_uchylny_elektrycz     9652 non-null    object        \n",
      " 173  rodzaj_wlasnosci_baterii                             1336 non-null    object        \n",
      " 174  wyswietlacz_typu_head-up                             9224 non-null    object        \n",
      " 175  system_odzyskiwania_energii                          4146 non-null    object        \n",
      " 176  funkcja_szybkiego_ladowania                          1840 non-null    object        \n",
      " 177  kabel_do_ladowania                                   2951 non-null    object        \n",
      " 178  oswietlenie_wnetrza_led                              26860 non-null   object        \n",
      " 179  tempomat_adaptacyjny_acc                             23349 non-null   object        \n",
      " 180  tapicerka_alcantara                                  5701 non-null    object        \n",
      " 181  sportowe_fotele_przod                                31634 non-null   object        \n",
      " 182  park_assistant_asystent_parkowania                   24157 non-null   object        \n",
      " 183  felgi_aluminiowe_od_21                               1868 non-null    object        \n",
      " 184  zawieszenie_sportowe                                 18024 non-null   object        \n",
      " 185  dach_panoramiczny                                    9046 non-null    object        \n",
      " 186  fotele_przednie_z_funkcje_masazu                     4834 non-null    object        \n",
      " 187  kolumna_kierownicy_regulowana_elektrycznie           10779 non-null   object        \n",
      " 188  roleta_szyby_tylnej_regulowana_elektrycznie          2944 non-null    object        \n",
      " 189  zawieszenie_regulowane                               6731 non-null    object        \n",
      " 190  oplata_poczatkowa                                    1140 non-null    object        \n",
      " 191  miesieczna_rata                                      5056 non-null    object        \n",
      " 192  liczba_pozostalych_rat                               1258 non-null    object        \n",
      " 193  wartosc_wykupu                                       1144 non-null    object        \n",
      " 194  opony_wielosezonowe                                  9026 non-null    object        \n",
      " 195  elektroniczna_regul_charakterystyki_zawieszenia      8654 non-null    object        \n",
      " 196  zawieszenie_powietrzne                               3678 non-null    object        \n",
      " 197  zawieszenie_hydropneumatyczne                        4167 non-null    object        \n",
      " 198  poduszka_powietrzna_pasow_bezpieczenstwa_zm_tylu     5218 non-null    object        \n",
      " 199  kurtyna_powietrzna_z_tylu_poprzeczna                 5573 non-null    object        \n",
      " 200  klimatyzacja_automatyczna_3_strefowa                 6589 non-null    object        \n",
      " 201  gwarancja_dealerska_w_cenie                          9400 non-null    object        \n",
      " 202  keyless_entry                                        19360 non-null   object        \n",
      " 203  felgi_aluminiowe_20                                  6086 non-null    object        \n",
      " 204  alarm_ruchu_poprzecznego_z_tylu_pojazdu              8215 non-null    object        \n",
      " 205  niezalezny_system_parkowania                         5457 non-null    object        \n",
      " 206  system_hamowania_awaryjnego_dla_ochrony_pieszych     15968 non-null   object        \n",
      " 207  tuning                                               1632 non-null    object        \n",
      " 208  ogrzewane_siedzenia_tylne                            11955 non-null   object        \n",
      " 209  asystent_jazdy_w_korku                               6103 non-null    object        \n",
      " 210  lub_do_przebieg_km                                   5413 non-null    object        \n",
      " 211  lampy_przeciwmgielne_w_technologii_led               15493 non-null   object        \n",
      " 212  aktywny_system_monitorowania_kondycji_kierowcy       4486 non-null    object        \n",
      " 213  asystent_zapobiegania_kolizjom_na_skrzyzowaniu       6881 non-null    object        \n",
      " 214  opony_runflat                                        9245 non-null    object        \n",
      " 215  system_chroniacy_przed_kolizja_tylny                 4397 non-null    object        \n",
      " 216  system_chroniacy_przed_kolizja_boczny                3869 non-null    object        \n",
      " 217  szyberdach_szklany_przesuwny_i_uchylny_recznie       227 non-null     object        \n",
      " 218  zewnetrzne_oklejenie                                 812 non-null     object        \n",
      " 219  felgi_aluminiowe_15                                  5949 non-null    object        \n",
      " 220  srednie_zuzycie                                      1307 non-null    object        \n",
      " 221  spalanie_w_cyklu_mieszanym                           5120 non-null    object        \n",
      " 222  autonomiczny_system_kierowania                       2483 non-null    object        \n",
      " 223  dach_z_tworzywa_sztucznego                           534 non-null     object        \n",
      " 224  fotele_tylne_wentylowane                             2054 non-null    object        \n",
      " 225  dach_otwierany_elektrycznie                          10464 non-null   object        \n",
      " 226  rolety_na_bocznych_szybach_opuszczane_elektrycznie   841 non-null     object        \n",
      " 227  regulowany_dyferencjal_centralny                     1422 non-null    object        \n",
      " 228  system_ochrony_sluchu_w_przypadku_kolizji            2123 non-null    object        \n",
      " 229  dach_materialowy                                     1804 non-null    object        \n",
      " 230  dach_otwierany_elektrycznie_pilotem                  2306 non-null    object        \n",
      " 231  tempomat_przewidujacy_pcc                            1320 non-null    object        \n",
      " 232  reflektory_laserowe                                  630 non-null     object        \n",
      " 233  system_emitujacy_dzwiek_silnika_avas                 1658 non-null    object        \n",
      " 234  spalanie_poza_miastem                                4558 non-null    object        \n",
      " 235  tylna_oslona_przeciwwietrzna_windstop                1332 non-null    object        \n",
      " 236  zarejestrowany_jako_zabytek                          256 non-null     object        \n",
      " 237  drugi_szyberdach_szklany_przesuwny_i_uchylny_el      1212 non-null    object        \n",
      " 238  hardtop                                              813 non-null     object        \n",
      " 239  pojemnosc_baterii                                    1138 non-null    object        \n",
      " 240  autonomia                                            1432 non-null    object        \n",
      " 241  kierownica_po_prawej_anglik                          427 non-null     object        \n",
      " 242  orurowanie_przednie                                  357 non-null     object        \n",
      " 243  fotele_tylne_z_funkcje_masazu                        668 non-null     object        \n",
      " 244  hamulce_z_kompozytow_ceramicznych                    566 non-null     object        \n",
      " 245  opony_off-road                                       259 non-null     object        \n",
      " 246  czas_ladowania                                       6 non-null       object        \n",
      "dtypes: datetime64[ns](1), float64(2), int64(4), object(240)\n",
      "memory usage: 392.4+ MB\n"
     ]
    }
   ],
   "source": [
    "df_raw.info(max_cols=len(df_raw.columns))"
   ],
   "metadata": {
    "collapsed": false,
    "ExecuteTime": {
     "start_time": "2023-05-07T12:00:10.077145Z",
     "end_time": "2023-05-07T12:00:14.351027Z"
    }
   }
  },
  {
   "cell_type": "markdown",
   "source": [
    "### Data cleaning"
   ],
   "metadata": {
    "collapsed": false
   }
  },
  {
   "cell_type": "markdown",
   "source": [
    "Check for duplicated rows"
   ],
   "metadata": {
    "collapsed": false
   }
  },
  {
   "cell_type": "code",
   "execution_count": 5,
   "outputs": [
    {
     "name": "stdout",
     "output_type": "stream",
     "text": [
      "Removed 0 duplicated offers.\n"
     ]
    }
   ],
   "source": [
    "duplicates = df_raw.duplicated(subset=df_raw.columns[1:]).sum()\n",
    "df = df_raw.drop_duplicates(subset=df_raw.columns[1:])\n",
    "print(f'Removed {duplicates} duplicated offers.')"
   ],
   "metadata": {
    "collapsed": false,
    "ExecuteTime": {
     "start_time": "2023-05-07T12:00:14.352027Z",
     "end_time": "2023-05-07T12:00:19.123527Z"
    }
   }
  },
  {
   "cell_type": "markdown",
   "source": [
    "Check the number of missing values in each column"
   ],
   "metadata": {
    "collapsed": false
   }
  },
  {
   "cell_type": "code",
   "execution_count": 6,
   "outputs": [
    {
     "name": "stdout",
     "output_type": "stream",
     "text": [
      "id________________________________________________:        0 missing values (0.00%)\n",
      "url_______________________________________________:        0 missing values (0.00%)\n",
      "data_utworzenia_oferty____________________________:        0 missing values (0.00%)\n",
      "tytul_oferty______________________________________:        0 missing values (0.00%)\n",
      "cena______________________________________________:        0 missing values (0.00%)\n",
      "waluta____________________________________________:        0 missing values (0.00%)\n",
      "nazwa_sprzedawcy__________________________________:     5293 missing values (2.54%)\n",
      "typ_sprzedawcy____________________________________:        0 missing values (0.00%)\n",
      "rok_rejestracji_sprzedawcy________________________:        0 missing values (0.00%)\n",
      "lokalizacja_______________________________________:        0 missing values (0.00%)\n",
      "oferta_od_________________________________________:        0 missing values (0.00%)\n",
      "kategoria_________________________________________:        0 missing values (0.00%)\n",
      "pokaz_oferty_z_numerem_vin________________________:    12366 missing values (5.94%)\n",
      "marka_pojazdu_____________________________________:        0 missing values (0.00%)\n",
      "model_pojazdu_____________________________________:        0 missing values (0.00%)\n",
      "generacja_________________________________________:    62676 missing values (30.10%)\n",
      "rok_produkcji_____________________________________:        0 missing values (0.00%)\n",
      "przebieg__________________________________________:     1332 missing values (0.64%)\n",
      "pojemnosc_skokowa_________________________________:     3491 missing values (1.68%)\n",
      "rodzaj_paliwa_____________________________________:        0 missing values (0.00%)\n",
      "moc_______________________________________________:      132 missing values (0.06%)\n",
      "skrzynia_biegow___________________________________:      134 missing values (0.06%)\n",
      "typ_nadwozia______________________________________:        0 missing values (0.00%)\n",
      "liczba_drzwi______________________________________:     1233 missing values (0.59%)\n",
      "liczba_miejsc_____________________________________:    10963 missing values (5.27%)\n",
      "kolor_____________________________________________:        0 missing values (0.00%)\n",
      "vat_marza_________________________________________:   152085 missing values (73.05%)\n",
      "mozliwosc_finansowania____________________________:   134515 missing values (64.61%)\n",
      "stan______________________________________________:        0 missing values (0.00%)\n",
      "opis_oferty_______________________________________:     4289 missing values (2.06%)\n",
      "wersja____________________________________________:    66994 missing values (32.18%)\n",
      "spalanie_w_miescie________________________________:    87183 missing values (41.87%)\n",
      "rodzaj_koloru_____________________________________:    62754 missing values (30.14%)\n",
      "radio_____________________________________________:    40009 missing values (19.22%)\n",
      "system_nawigacji_satelitarnej_____________________:   129299 missing values (62.10%)\n",
      "system_naglosnienia_______________________________:   141611 missing values (68.02%)\n",
      "ekran_dotykowy____________________________________:   154640 missing values (74.27%)\n",
      "klimatyzacja_automatyczna_________________________:   133795 missing values (64.26%)\n",
      "tapicerka_czesciowo_skorzana______________________:   190216 missing values (91.36%)\n",
      "podlokietniki_przod_______________________________:    93357 missing values (44.84%)\n",
      "podlokietniki_tyl_________________________________:   131469 missing values (63.14%)\n",
      "kierownica_skorzana_______________________________:    75669 missing values (36.34%)\n",
      "kierownica_ze_sterowaniem_radia___________________:   107320 missing values (51.55%)\n",
      "kierownica_wielofunkcyjna_________________________:    91743 missing values (44.06%)\n",
      "elektryczne_szyby_przednie________________________:    37143 missing values (17.84%)\n",
      "elektryczne_szyby_tylne___________________________:    76818 missing values (36.90%)\n",
      "tempomat__________________________________________:   103256 missing values (49.59%)\n",
      "lusterka_boczne_ustawiane_elektrycznie____________:    60631 missing values (29.12%)\n",
      "podgrzewane_lusterka_boczne_______________________:    68887 missing values (33.09%)\n",
      "kontrola_trakcji__________________________________:    72686 missing values (34.91%)\n",
      "wspomaganie_kierownicy____________________________:    62643 missing values (30.09%)\n",
      "felgi_aluminiowe_16_______________________________:   174819 missing values (83.96%)\n",
      "opony_letnie______________________________________:   188597 missing values (90.58%)\n",
      "abs_______________________________________________:    32172 missing values (15.45%)\n",
      "system_wspomagania_hamowania______________________:   117601 missing values (56.48%)\n",
      "poduszka_powietrzna_kierowcy______________________:    42820 missing values (20.57%)\n",
      "poduszka_powietrzna_pasazera______________________:    33694 missing values (16.18%)\n",
      "kurtyny_powietrzne_przod__________________________:    77395 missing values (37.17%)\n",
      "boczna_poduszka_powietrzna_kierowcy_______________:   129362 missing values (62.13%)\n",
      "boczne_poduszki_powietrzne_przod__________________:    58447 missing values (28.07%)\n",
      "boczne_poduszki_powietrzne_tyl____________________:   178285 missing values (85.63%)\n",
      "naped_____________________________________________:    35067 missing values (16.84%)\n",
      "zarejestrowany_w_polsce___________________________:    97428 missing values (46.79%)\n",
      "pierwszy_wlasciciel_od_nowosci____________________:   154913 missing values (74.40%)\n",
      "bezwypadkowy______________________________________:    91112 missing values (43.76%)\n",
      "serwisowany_w_aso_________________________________:   116185 missing values (55.80%)\n",
      "homologacja_ciezarowa_____________________________:   207203 missing values (99.52%)\n",
      "zestaw_glosnomowiacy______________________________:   125360 missing values (60.21%)\n",
      "gniazdo_usb_______________________________________:    88209 missing values (42.37%)\n",
      "elektrycznie_ustawiany_fotel_kierowcy_____________:   158561 missing values (76.16%)\n",
      "elektrycznie_ustawiany_fotel_pasazera_____________:   169547 missing values (81.43%)\n",
      "zmiana_biegow_w_kierownicy________________________:   180786 missing values (86.83%)\n",
      "dzwignia_zmiany_biegow_wykonczona_skora___________:   144889 missing values (69.59%)\n",
      "keyless_go________________________________________:   164028 missing values (78.78%)\n",
      "czujnik_deszczu___________________________________:    99947 missing values (48.00%)\n",
      "lampy_przednie_w_technologii_led__________________:   165916 missing values (79.69%)\n",
      "kontrola_odleglosci_z_przodu_przy_parkowaniu______:   146596 missing values (70.41%)\n",
      "kontrola_odleglosci_z_tylu_przy_parkowaniu________:   105018 missing values (50.44%)\n",
      "kamera_panoramiczna_360___________________________:   198900 missing values (95.53%)\n",
      "kamera_parkowania_tyl_____________________________:   146113 missing values (70.18%)\n",
      "lusterka_boczne_skladane_elektrycznie_____________:   139667 missing values (67.08%)\n",
      "kamera_w_lusterku_bocznym_________________________:   198343 missing values (95.26%)\n",
      "lane_assist_kontrola_zmiany_pasa_ruchu____________:   165381 missing values (79.43%)\n",
      "automatyczna_kontrola_zjazdu_ze_stoku_____________:   190888 missing values (91.68%)\n",
      "wspomaganie_ruszania_pod_gorehill_holder__________:   138251 missing values (66.40%)\n",
      "system_rozpoznawania_znakow_drogowych_____________:   177529 missing values (85.27%)\n",
      "czujnik_zmierzchu_________________________________:   116743 missing values (56.07%)\n",
      "swiatla_do_jazdy_dziennej_________________________:   126436 missing values (60.73%)\n",
      "swiatla_do_jazdy_dziennej_diodowe_led_____________:   135130 missing values (64.90%)\n",
      "lampy_przeciwmgielne______________________________:    89469 missing values (42.97%)\n",
      "lampy_tylne_w_technologii_led_____________________:   151024 missing values (72.54%)\n",
      "system_start/stop_________________________________:   130887 missing values (62.86%)\n",
      "elektroniczna_kontrola_cisnienia_w_oponach________:   122260 missing values (58.72%)\n",
      "blokada_mechanizmu_roznicowego____________________:   198666 missing values (95.42%)\n",
      "felgi_aluminiowe_18_______________________________:   182338 missing values (87.58%)\n",
      "zawieszenie_komfortowe____________________________:   191789 missing values (92.12%)\n",
      "esp_______________________________________________:    47097 missing values (22.62%)\n",
      "aktywny_asystent_hamowania_awaryjnego_____________:   189872 missing values (91.19%)\n",
      "system_powiadamiania_o_wypadku____________________:   186297 missing values (89.48%)\n",
      "poduszka_kolan_pasazera___________________________:   169589 missing values (81.45%)\n",
      "isofix_punkty_mocowania_fotelika_dzieciecego______:    64829 missing values (31.14%)\n",
      "emisja_co2________________________________________:   197631 missing values (94.92%)\n",
      "kraj_pochodzenia__________________________________:    73847 missing values (35.47%)\n",
      "data_pierwszej_rejestracji_w_historii_pojazdu_____:   108403 missing values (52.07%)\n",
      "klimatyzacja_automatyczna_dwustrefowa_____________:   154181 missing values (74.05%)\n",
      "tapicerka_materialowa_____________________________:   121790 missing values (58.50%)\n",
      "poduszka_kolan_kierowcy___________________________:   178280 missing values (85.63%)\n",
      "ma_numer_rejestracyjny____________________________:   135139 missing values (64.91%)\n",
      "filtr_czastek_stalych_____________________________:   185137 missing values (88.92%)\n",
      "numer_rejestracyjny_pojazdu_______________________:   136139 missing values (65.39%)\n",
      "interfejs_bluetooth_______________________________:    93620 missing values (44.97%)\n",
      "klimatyzacja_manualna_____________________________:   167484 missing values (80.44%)\n",
      "rolety_na_bocznych_szybach_opuszczane_recznie_____:   201031 missing values (96.55%)\n",
      "wycieraczki_______________________________________:   158947 missing values (76.34%)\n",
      "opony_zimowe______________________________________:   197655 missing values (94.93%)\n",
      "elektroniczny_system_rozdzialu_sily_hamowania_____:   144656 missing values (69.48%)\n",
      "kurtyny_powietrzne_tyl____________________________:   142124 missing values (68.26%)\n",
      "leasing___________________________________________:   175395 missing values (84.24%)\n",
      "faktura_vat_______________________________________:   151624 missing values (72.82%)\n",
      "przyciemniane_tylne_szyby_________________________:   127603 missing values (61.29%)\n",
      "spryskiwacze_reflektorow__________________________:   170400 missing values (81.84%)\n",
      "lampy_doswietlajace_zakret________________________:   170130 missing values (81.71%)\n",
      "felgi_aluminiowe_17_______________________________:   191262 missing values (91.86%)\n",
      "poduszka_powietrzna_centralna_____________________:   195328 missing values (93.82%)\n",
      "poduszki_powietrzne_czolowe_tyl___________________:   198794 missing values (95.48%)\n",
      "elektryczny_hamulec_postojowy_____________________:   160971 missing values (77.31%)\n",
      "podgrzewany_fotel_kierowcy________________________:   122367 missing values (58.77%)\n",
      "podgrzewany_fotel_pasazera________________________:   125901 missing values (60.47%)\n",
      "apple_carplay_____________________________________:   175763 missing values (84.42%)\n",
      "android_auto______________________________________:   172171 missing values (82.69%)\n",
      "kierownica_ogrzewana______________________________:   187653 missing values (90.13%)\n",
      "ogranicznik_predkosci_____________________________:   163120 missing values (78.35%)\n",
      "uszkodzony________________________________________:   196140 missing values (94.21%)\n",
      "kierownica_sportowa_______________________________:   173914 missing values (83.53%)\n",
      "felgi_stalowe_____________________________________:   187726 missing values (90.16%)\n",
      "okres_gwarancji_producenta________________________:   202722 missing values (97.37%)\n",
      "asystent_hamowania_brake_assist___________________:   175675 missing values (84.38%)\n",
      "aktywne_rozpoznawanie_znakow_ograniczenia_predkosci:   194379 missing values (93.36%)\n",
      "oswietlenie_drogi_do_domu_________________________:   171972 missing values (82.60%)\n",
      "system_wykrywania_zmeczenie_kierowcy______________:   191530 missing values (91.99%)\n",
      "asystent_pasa_ruchu_______________________________:   186146 missing values (89.41%)\n",
      "system_zabezpieczajacy_podczas_dachowania_________:   203432 missing values (97.71%)\n",
      "ladowanie_bezprzewodowe_urzadzen__________________:   196435 missing values (94.35%)\n",
      "sterowanie_funkcjami_pojazdu_za_pomoca_glosu______:   188313 missing values (90.45%)\n",
      "klimatyzacja_automatyczna_4_lub_wiecej_strefowa___:   204046 missing values (98.00%)\n",
      "tapicerka_skorzana________________________________:   167013 missing values (80.22%)\n",
      "klimatyzacja_dla_pasazerow_z_tylu_________________:   190138 missing values (91.32%)\n",
      "regul_elektr_podparcia_ledzwiowego_kierowca_______:   172157 missing values (82.69%)\n",
      "regul_elektr_podparcia_ledzwiowego_pasazer________:   184273 missing values (88.51%)\n",
      "siedzenie_z_pamiecia_ustawienia___________________:   184900 missing values (88.81%)\n",
      "cyfrowy_kluczyk___________________________________:   195978 missing values (94.13%)\n",
      "uruchamianie_silnika_bez_uzycia_kluczykow_________:   175894 missing values (84.48%)\n",
      "ogrzewanie_postojowe______________________________:   201916 missing values (96.98%)\n",
      "automatyczna_kontrola_ogrzewania__________________:   199878 missing values (96.00%)\n",
      "lampy_ksenonowe___________________________________:   195553 missing values (93.92%)\n",
      "asystent_czujnik_martwego_pola____________________:   184043 missing values (88.40%)\n",
      "aktywny_asystent_zmiany_pasa_ruchu________________:   193649 missing values (93.01%)\n",
      "kontrola_odleglosci_od_poprzedzajacego_pojazdu____:   185955 missing values (89.31%)\n",
      "asystent_pokonywania_zakretow_____________________:   202713 missing values (97.36%)\n",
      "asystent_swiatel_drogowych________________________:   173470 missing values (83.32%)\n",
      "asystent_hamowania_awaryjnego_w_miescie___________:   193635 missing values (93.00%)\n",
      "system_ostrzegajacy_o_mozliwej_kolizji____________:   183675 missing values (88.22%)\n",
      "system_rekomendacji_przerw_podczas_trasy__________:   199967 missing values (96.04%)\n",
      "system_minimalizujacy_skutki_kolizji______________:   187220 missing values (89.92%)\n",
      "vin_______________________________________________:   203946 missing values (97.95%)\n",
      "podgrzewana_przednia_szyba________________________:   183283 missing values (88.03%)\n",
      "dostep_do_internetu_______________________________:   187926 missing values (90.26%)\n",
      "fotele_przednie_wentylowane_______________________:   199202 missing values (95.68%)\n",
      "lampy_bi-ksenonowe________________________________:   193168 missing values (92.78%)\n",
      "oswietlenie_adaptacyjne___________________________:   192333 missing values (92.38%)\n",
      "dynamiczne_swiatla_doswietlajace_zakrety__________:   193429 missing values (92.90%)\n",
      "felgi_aluminiowe_19_______________________________:   196788 missing values (94.52%)\n",
      "szyberdach_szklany_przesuwny_i_uchylny_elektrycz__:   198553 missing values (95.36%)\n",
      "rodzaj_wlasnosci_baterii__________________________:   206869 missing values (99.36%)\n",
      "wyswietlacz_typu_head-up__________________________:   198981 missing values (95.57%)\n",
      "system_odzyskiwania_energii_______________________:   204059 missing values (98.01%)\n",
      "funkcja_szybkiego_ladowania_______________________:   206365 missing values (99.12%)\n",
      "kabel_do_ladowania________________________________:   205254 missing values (98.58%)\n",
      "oswietlenie_wnetrza_led___________________________:   181345 missing values (87.10%)\n",
      "tempomat_adaptacyjny_acc__________________________:   184856 missing values (88.79%)\n",
      "tapicerka_alcantara_______________________________:   202504 missing values (97.26%)\n",
      "sportowe_fotele_przod_____________________________:   176571 missing values (84.81%)\n",
      "park_assistant_asystent_parkowania________________:   184048 missing values (88.40%)\n",
      "felgi_aluminiowe_od_21____________________________:   206337 missing values (99.10%)\n",
      "zawieszenie_sportowe______________________________:   190181 missing values (91.34%)\n",
      "dach_panoramiczny_________________________________:   199159 missing values (95.66%)\n",
      "fotele_przednie_z_funkcje_masazu__________________:   203371 missing values (97.68%)\n",
      "kolumna_kierownicy_regulowana_elektrycznie________:   197426 missing values (94.82%)\n",
      "roleta_szyby_tylnej_regulowana_elektrycznie_______:   205261 missing values (98.59%)\n",
      "zawieszenie_regulowane____________________________:   201474 missing values (96.77%)\n",
      "oplata_poczatkowa_________________________________:   207065 missing values (99.45%)\n",
      "miesieczna_rata___________________________________:   203149 missing values (97.57%)\n",
      "liczba_pozostalych_rat____________________________:   206947 missing values (99.40%)\n",
      "wartosc_wykupu____________________________________:   207061 missing values (99.45%)\n",
      "opony_wielosezonowe_______________________________:   199179 missing values (95.66%)\n",
      "elektroniczna_regul_charakterystyki_zawieszenia___:   199551 missing values (95.84%)\n",
      "zawieszenie_powietrzne____________________________:   204527 missing values (98.23%)\n",
      "zawieszenie_hydropneumatyczne_____________________:   204038 missing values (98.00%)\n",
      "poduszka_powietrzna_pasow_bezpieczenstwa_zm_tylu__:   202987 missing values (97.49%)\n",
      "kurtyna_powietrzna_z_tylu_poprzeczna______________:   202632 missing values (97.32%)\n",
      "klimatyzacja_automatyczna_3_strefowa______________:   201616 missing values (96.84%)\n",
      "gwarancja_dealerska_w_cenie_______________________:   198805 missing values (95.49%)\n",
      "keyless_entry_____________________________________:   188845 missing values (90.70%)\n",
      "felgi_aluminiowe_20_______________________________:   202119 missing values (97.08%)\n",
      "alarm_ruchu_poprzecznego_z_tylu_pojazdu___________:   199990 missing values (96.05%)\n",
      "niezalezny_system_parkowania______________________:   202748 missing values (97.38%)\n",
      "system_hamowania_awaryjnego_dla_ochrony_pieszych__:   192237 missing values (92.33%)\n",
      "tuning____________________________________________:   206573 missing values (99.22%)\n",
      "ogrzewane_siedzenia_tylne_________________________:   196250 missing values (94.26%)\n",
      "asystent_jazdy_w_korku____________________________:   202102 missing values (97.07%)\n",
      "lub_do_przebieg_km________________________________:   202792 missing values (97.40%)\n",
      "lampy_przeciwmgielne_w_technologii_led____________:   192712 missing values (92.56%)\n",
      "aktywny_system_monitorowania_kondycji_kierowcy____:   203719 missing values (97.85%)\n",
      "asystent_zapobiegania_kolizjom_na_skrzyzowaniu____:   201324 missing values (96.70%)\n",
      "opony_runflat_____________________________________:   198960 missing values (95.56%)\n",
      "system_chroniacy_przed_kolizja_tylny______________:   203808 missing values (97.89%)\n",
      "system_chroniacy_przed_kolizja_boczny_____________:   204336 missing values (98.14%)\n",
      "szyberdach_szklany_przesuwny_i_uchylny_recznie____:   207978 missing values (99.89%)\n",
      "zewnetrzne_oklejenie______________________________:   207393 missing values (99.61%)\n",
      "felgi_aluminiowe_15_______________________________:   202256 missing values (97.14%)\n",
      "srednie_zuzycie___________________________________:   206898 missing values (99.37%)\n",
      "spalanie_w_cyklu_mieszanym________________________:   203085 missing values (97.54%)\n",
      "autonomiczny_system_kierowania____________________:   205722 missing values (98.81%)\n",
      "dach_z_tworzywa_sztucznego________________________:   207671 missing values (99.74%)\n",
      "fotele_tylne_wentylowane__________________________:   206151 missing values (99.01%)\n",
      "dach_otwierany_elektrycznie_______________________:   197741 missing values (94.97%)\n",
      "rolety_na_bocznych_szybach_opuszczane_elektrycznie:   207364 missing values (99.60%)\n",
      "regulowany_dyferencjal_centralny__________________:   206783 missing values (99.32%)\n",
      "system_ochrony_sluchu_w_przypadku_kolizji_________:   206082 missing values (98.98%)\n",
      "dach_materialowy__________________________________:   206401 missing values (99.13%)\n",
      "dach_otwierany_elektrycznie_pilotem_______________:   205899 missing values (98.89%)\n",
      "tempomat_przewidujacy_pcc_________________________:   206885 missing values (99.37%)\n",
      "reflektory_laserowe_______________________________:   207575 missing values (99.70%)\n",
      "system_emitujacy_dzwiek_silnika_avas______________:   206547 missing values (99.20%)\n",
      "spalanie_poza_miastem_____________________________:   203647 missing values (97.81%)\n",
      "tylna_oslona_przeciwwietrzna_windstop_____________:   206873 missing values (99.36%)\n",
      "zarejestrowany_jako_zabytek_______________________:   207949 missing values (99.88%)\n",
      "drugi_szyberdach_szklany_przesuwny_i_uchylny_el___:   206993 missing values (99.42%)\n",
      "hardtop___________________________________________:   207392 missing values (99.61%)\n",
      "pojemnosc_baterii_________________________________:   207067 missing values (99.45%)\n",
      "autonomia_________________________________________:   206773 missing values (99.31%)\n",
      "kierownica_po_prawej_anglik_______________________:   207778 missing values (99.79%)\n",
      "orurowanie_przednie_______________________________:   207848 missing values (99.83%)\n",
      "fotele_tylne_z_funkcje_masazu_____________________:   207537 missing values (99.68%)\n",
      "hamulce_z_kompozytow_ceramicznych_________________:   207639 missing values (99.73%)\n",
      "opony_off-road____________________________________:   207946 missing values (99.88%)\n",
      "czas_ladowania____________________________________:   208199 missing values (100.00%)\n"
     ]
    }
   ],
   "source": [
    "for col in df.columns:\n",
    "    n_missing = df[col].isnull().sum()\n",
    "    missing_percent = n_missing / len(df) * 100\n",
    "    print(f'{col:_<50}: {n_missing:>8} missing values ({missing_percent:.2f}%)')"
   ],
   "metadata": {
    "collapsed": false,
    "ExecuteTime": {
     "start_time": "2023-05-07T12:00:19.130527Z",
     "end_time": "2023-05-07T12:00:20.206202Z"
    }
   }
  },
  {
   "cell_type": "markdown",
   "source": [
    "Drop columns with irrelevant information and columns almost full of missing values"
   ],
   "metadata": {
    "collapsed": false
   }
  },
  {
   "cell_type": "code",
   "execution_count": 7,
   "outputs": [],
   "source": [
    "cols_to_drop = [\n",
    "    'id',\n",
    "    'url',\n",
    "    'tytul_oferty',\n",
    "    'nazwa_sprzedawcy',\n",
    "    'rok_rejestracji_sprzedawcy',\n",
    "    'opis_oferty',\n",
    "    'oferta_od',\n",
    "    'kategoria',\n",
    "    'pokaz_oferty_z_numerem_vin',\n",
    "    'vat_marza',\n",
    "    'mozliwosc_finansowania',\n",
    "    'numer_rejestracyjny_pojazdu',\n",
    "    'vin',\n",
    "    'oplata_poczatkowa',\n",
    "    'miesieczna_rata',\n",
    "    'liczba_pozostalych_rat',\n",
    "    'wartosc_wykupu',\n",
    "    'lub_do_przebieg_km',\n",
    "    'wersja',\n",
    "    'srednie_zuzycie',\n",
    "    'spalanie_w_cyklu_mieszanym',\n",
    "    'spalanie_poza_miastem',\n",
    "    'emisja_co2',\n",
    "    'data_pierwszej_rejestracji_w_historii_pojazdu',\n",
    "    'pojemnosc_baterii',\n",
    "    'rodzaj_wlasnosci_baterii',\n",
    "    'czas_ladowania',\n",
    "    'autonomia',\n",
    "]\n",
    "\n",
    "df = df.drop(columns=cols_to_drop)"
   ],
   "metadata": {
    "collapsed": false,
    "ExecuteTime": {
     "start_time": "2023-05-07T12:00:20.207334Z",
     "end_time": "2023-05-07T12:00:20.578615Z"
    }
   }
  },
  {
   "cell_type": "markdown",
   "source": [
    "Remove damaged cars from the dataset"
   ],
   "metadata": {
    "collapsed": false
   }
  },
  {
   "cell_type": "code",
   "execution_count": 8,
   "outputs": [
    {
     "data": {
      "text/plain": "NaN    196140\nTak     12065\nName: uszkodzony, dtype: int64"
     },
     "execution_count": 8,
     "metadata": {},
     "output_type": "execute_result"
    }
   ],
   "source": [
    "df['uszkodzony'].value_counts(dropna=False)"
   ],
   "metadata": {
    "collapsed": false,
    "ExecuteTime": {
     "start_time": "2023-05-07T12:00:20.579617Z",
     "end_time": "2023-05-07T12:00:20.594616Z"
    }
   }
  },
  {
   "cell_type": "code",
   "execution_count": 9,
   "outputs": [],
   "source": [
    "df = df.loc[df['uszkodzony'].isna()]\n",
    "df = df.drop(columns=['uszkodzony'])"
   ],
   "metadata": {
    "collapsed": false,
    "ExecuteTime": {
     "start_time": "2023-05-07T12:00:20.593614Z",
     "end_time": "2023-05-07T12:00:21.169391Z"
    }
   }
  },
  {
   "cell_type": "markdown",
   "source": [
    "Convert all prices to PLN"
   ],
   "metadata": {
    "collapsed": false
   }
  },
  {
   "cell_type": "code",
   "execution_count": 10,
   "outputs": [
    {
     "data": {
      "text/plain": "PLN    195811\nEUR       329\nName: waluta, dtype: int64"
     },
     "execution_count": 10,
     "metadata": {},
     "output_type": "execute_result"
    }
   ],
   "source": [
    "df['waluta'].value_counts()"
   ],
   "metadata": {
    "collapsed": false,
    "ExecuteTime": {
     "start_time": "2023-05-07T12:00:21.171392Z",
     "end_time": "2023-05-07T12:00:21.186159Z"
    }
   }
  },
  {
   "cell_type": "code",
   "execution_count": 11,
   "outputs": [],
   "source": [
    "eur_mask = (df['waluta'] == 'EUR')\n",
    "\n",
    "currency_converter = CurrencyConverter(fallback_on_missing_rate=True, fallback_on_wrong_date=True)\n",
    "\n",
    "df.loc[eur_mask, 'cena'] = df.loc[eur_mask].apply(lambda x: currency_converter.convert(\n",
    "    x['cena'], 'EUR', 'PLN', date=x['data_utworzenia_oferty'].date()), axis=1)\n",
    "df = df.drop(columns='waluta')"
   ],
   "metadata": {
    "collapsed": false,
    "ExecuteTime": {
     "start_time": "2023-05-07T12:00:21.185158Z",
     "end_time": "2023-05-07T12:00:21.852852Z"
    }
   }
  },
  {
   "cell_type": "markdown",
   "source": [
    "Convert car condition column to binary"
   ],
   "metadata": {
    "collapsed": false
   }
  },
  {
   "cell_type": "code",
   "execution_count": 12,
   "outputs": [
    {
     "data": {
      "text/plain": "Używane    175450\nNowe        20690\nName: stan, dtype: int64"
     },
     "execution_count": 12,
     "metadata": {},
     "output_type": "execute_result"
    }
   ],
   "source": [
    "df['stan'].value_counts()"
   ],
   "metadata": {
    "collapsed": false,
    "ExecuteTime": {
     "start_time": "2023-05-07T12:00:21.852852Z",
     "end_time": "2023-05-07T12:00:21.911351Z"
    }
   }
  },
  {
   "cell_type": "code",
   "execution_count": 13,
   "outputs": [],
   "source": [
    "df['nowy_pojazd'] = df['stan'].replace({'Nowe': 1, 'Używane': 0}).astype(int)\n",
    "df = df.drop(columns=['stan'])"
   ],
   "metadata": {
    "collapsed": false,
    "ExecuteTime": {
     "start_time": "2023-05-07T12:00:21.884912Z",
     "end_time": "2023-05-07T12:00:22.222160Z"
    }
   }
  },
  {
   "cell_type": "markdown",
   "source": [
    "Clean and convert numerical columns to numbers"
   ],
   "metadata": {
    "collapsed": false
   }
  },
  {
   "cell_type": "code",
   "execution_count": 14,
   "outputs": [
    {
     "name": "stdout",
     "output_type": "stream",
     "text": [
      "km     194808\n",
      "nan      1332\n",
      "Name: przebieg, dtype: int64\n",
      "\n",
      "cm3    192881\n",
      "nan      3259\n",
      "Name: pojemnosc_skokowa, dtype: int64\n",
      "\n",
      "KM     196008\n",
      "nan       132\n",
      "Name: moc, dtype: int64\n",
      "\n",
      "l/100km    113998\n",
      "nan         82142\n",
      "Name: spalanie_w_miescie, dtype: int64\n",
      "\n",
      "nan         186754\n",
      "miesięcy      9386\n",
      "Name: gwarancja_dealerska_w_cenie, dtype: int64\n"
     ]
    }
   ],
   "source": [
    "print(df['przebieg'].apply(lambda x: str(x).split()[-1]).value_counts(), end='\\n\\n')\n",
    "print(df['pojemnosc_skokowa'].apply(lambda x: str(x).split()[-1]).value_counts(), end='\\n\\n')\n",
    "print(df['moc'].apply(lambda x: str(x).split()[-1]).value_counts(), end='\\n\\n')\n",
    "print(df['spalanie_w_miescie'].apply(lambda x: str(x).split()[-1]).value_counts(), end='\\n\\n')\n",
    "print(df['gwarancja_dealerska_w_cenie'].apply(lambda x: str(x).split()[-1]).value_counts())"
   ],
   "metadata": {
    "collapsed": false,
    "ExecuteTime": {
     "start_time": "2023-05-07T12:00:22.227151Z",
     "end_time": "2023-05-07T12:00:22.610588Z"
    }
   }
  },
  {
   "cell_type": "code",
   "execution_count": 16,
   "outputs": [],
   "source": [
    "df['przebieg'] = df['przebieg'].apply(\n",
    "    lambda x: float(re.sub(r'\\D', '', str(x))) if isinstance(x, str) else None)\n",
    "df['moc'] = df['moc'].apply(\n",
    "    lambda x: float(re.sub(r'\\D', '', str(x))) if isinstance(x, str) else None)\n",
    "df['pojemnosc_skokowa'] = df['pojemnosc_skokowa'].apply(\n",
    "    lambda x: round(float(x.split('cm3')[0].replace(' ', '')) / 1000, 1) if isinstance(x, str) else None)\n",
    "df['spalanie_w_miescie'] = df['spalanie_w_miescie'].apply(\n",
    "    lambda x: float(x.split()[0].replace(',', '.')) if isinstance(x, str) else None)\n",
    "\n",
    "df['gwarancja_dealerska'] = df['gwarancja_dealerska_w_cenie'].apply(\n",
    "    lambda x: float(x.split()[0]) if isinstance(x, str) else None).fillna(0)\n",
    "df = df.drop(columns=['gwarancja_dealerska_w_cenie'])"
   ],
   "metadata": {
    "collapsed": false,
    "ExecuteTime": {
     "start_time": "2023-05-07T12:01:57.646800Z",
     "end_time": "2023-05-07T12:01:59.825923Z"
    }
   }
  },
  {
   "cell_type": "markdown",
   "source": [
    "Convert columns with additional car equipment to binary\n",
    "\n",
    "Fill missing values with 0\n",
    "\n",
    "Add an indicator for offers without information about additional car equipment"
   ],
   "metadata": {
    "collapsed": false
   }
  },
  {
   "cell_type": "code",
   "execution_count": 17,
   "outputs": [
    {
     "name": "stderr",
     "output_type": "stream",
     "text": [
      "C:\\Users\\szyko\\AppData\\Local\\Temp\\ipykernel_3304\\857890836.py:2: DeprecationWarning: In a future version, `df.iloc[:, i] = newvals` will attempt to set the values inplace instead of always setting a new array. To retain the old behavior, use either `df[df.columns[i]] = newvals` or, if columns are non-unique, `df.isetitem(i, newvals)`\n",
      "  df.loc[:, preprocessing_cfg.CAR_EQUIPMENT_COLS] = df[preprocessing_cfg.CAR_EQUIPMENT_COLS].fillna(value=False).astype(int)\n"
     ]
    }
   ],
   "source": [
    "df['brak_informacji_o_wyposazeniu'] = df[preprocessing_cfg.CAR_EQUIPMENT_COLS].isna().all(axis=1).astype(int)\n",
    "df.loc[:, preprocessing_cfg.CAR_EQUIPMENT_COLS] = df[preprocessing_cfg.CAR_EQUIPMENT_COLS].fillna(value=False).astype(int)"
   ],
   "metadata": {
    "collapsed": false,
    "ExecuteTime": {
     "start_time": "2023-05-07T12:01:59.825923Z",
     "end_time": "2023-05-07T12:02:28.490254Z"
    }
   }
  },
  {
   "cell_type": "markdown",
   "source": [
    "Convert remaining True/False columns to binary\n",
    "\n",
    "Fill missing values with 0"
   ],
   "metadata": {
    "collapsed": false
   }
  },
  {
   "cell_type": "code",
   "execution_count": 18,
   "outputs": [
    {
     "name": "stderr",
     "output_type": "stream",
     "text": [
      "C:\\Users\\szyko\\AppData\\Local\\Temp\\ipykernel_3304\\4292693481.py:1: DeprecationWarning: In a future version, `df.iloc[:, i] = newvals` will attempt to set the values inplace instead of always setting a new array. To retain the old behavior, use either `df[df.columns[i]] = newvals` or, if columns are non-unique, `df.isetitem(i, newvals)`\n",
      "  df.loc[:, preprocessing_cfg.BINARY_COLS] = df[preprocessing_cfg.BINARY_COLS].replace('Tak', True).fillna(value=False).astype(int)\n"
     ]
    }
   ],
   "source": [
    "df.loc[:, preprocessing_cfg.BINARY_COLS] = df[preprocessing_cfg.BINARY_COLS].replace('Tak', True).fillna(value=False).astype(int)"
   ],
   "metadata": {
    "collapsed": false,
    "ExecuteTime": {
     "start_time": "2023-05-07T12:02:28.491246Z",
     "end_time": "2023-05-07T12:02:29.388845Z"
    }
   }
  },
  {
   "cell_type": "markdown",
   "source": [
    "### Feature extraction"
   ],
   "metadata": {
    "collapsed": false
   }
  },
  {
   "cell_type": "markdown",
   "source": [
    "Calculate the age of the cars"
   ],
   "metadata": {
    "collapsed": false
   }
  },
  {
   "cell_type": "code",
   "execution_count": 19,
   "outputs": [],
   "source": [
    "df['wiek_pojazdu'] = df['data_utworzenia_oferty'].dt.year - df['rok_produkcji']\n",
    "df = df.drop(columns=['rok_produkcji'])"
   ],
   "metadata": {
    "collapsed": false,
    "ExecuteTime": {
     "start_time": "2023-05-07T12:02:29.390845Z",
     "end_time": "2023-05-07T12:02:29.486363Z"
    }
   }
  },
  {
   "cell_type": "markdown",
   "source": [
    "Calculate the remaining months of manufacturer's warranty"
   ],
   "metadata": {
    "collapsed": false
   }
  },
  {
   "cell_type": "code",
   "execution_count": 20,
   "outputs": [],
   "source": [
    "df['gwarancja_producenta'] = (pd.to_datetime(df['okres_gwarancji_producenta'], format='%d/%m/%Y') -\n",
    "                              df['data_utworzenia_oferty']) / np.timedelta64(1,'M')\n",
    "df.loc[df['gwarancja_producenta'] < 0, 'gwarancja_producenta'] = None\n",
    "df['gwarancja_producenta'] = df['gwarancja_producenta'].round(decimals=1).fillna(0)\n",
    "df = df.drop(columns=['okres_gwarancji_producenta', 'data_utworzenia_oferty'])"
   ],
   "metadata": {
    "collapsed": false,
    "ExecuteTime": {
     "start_time": "2023-05-07T12:02:29.501375Z",
     "end_time": "2023-05-07T12:02:29.579421Z"
    }
   }
  },
  {
   "cell_type": "markdown",
   "source": [
    "Get province names from offer location addresses"
   ],
   "metadata": {
    "collapsed": false
   }
  },
  {
   "cell_type": "code",
   "execution_count": 21,
   "outputs": [
    {
     "data": {
      "text/plain": "mazowieckie            35707\nśląskie                22992\nwielkopolskie          22348\nmałopolskie            15618\nnieznane               15013\ndolnośląskie           12147\nłódzkie                11428\npomorskie              11050\nkujawsko-pomorskie      8346\nlubelskie               7279\npodkarpackie            6371\nzachodniopomorskie      5811\nświętokrzyskie          5598\nlubuskie                4957\nwarmińsko-mazurskie     4535\npodlaskie               3635\nopolskie                3305\nName: wojewodztwo, dtype: int64"
     },
     "execution_count": 21,
     "metadata": {},
     "output_type": "execute_result"
    }
   ],
   "source": [
    "province_names = ['dolnośląskie', 'kujawsko-pomorskie', 'lubelskie', 'lubuskie', 'łódzkie', 'małopolskie',\n",
    "                  'mazowieckie', 'opolskie', 'podkarpackie', 'podlaskie', 'pomorskie', 'śląskie',\n",
    "                  'świętokrzyskie', 'warmińsko-mazurskie', 'wielkopolskie', 'zachodniopomorskie']\n",
    "\n",
    "def get_province_names(locations):\n",
    "    def find_province_names_in_string(x):\n",
    "        names = [re.sub(r'[^\\w\\-]+', '', word.lower(), flags=re.UNICODE) for word in x.split()\n",
    "                 if re.sub(r'[^\\w\\-]+', '', word.lower(), flags=re.UNICODE) in province_names]\n",
    "        return names[0] if names else 'nieznane'\n",
    "\n",
    "    def find_province_name_in_address(address):\n",
    "        names = [re.sub(r'[^\\w\\-]+', '', word.strip(','), flags=re.UNICODE) for word in address.split()\n",
    "                 if re.sub(r'[^\\w\\-]+', '', word.strip(','), flags=re.UNICODE) in province_names]\n",
    "        return names[0] if names else 'nieznane'\n",
    "\n",
    "    location_provinces = locations.apply(find_province_names_in_string)\n",
    "    locations_wo_province = locations.loc[location_provinces == 'nieznane']\n",
    "    unique_locations_wo_province = locations_wo_province.unique()\n",
    "\n",
    "    missing_provinces = ['nieznane' for _ in unique_locations_wo_province]\n",
    "    geolocator = Nominatim(user_agent='car_offers_geolocator')\n",
    "\n",
    "    for i, location_str in enumerate(unique_locations_wo_province):\n",
    "        location = geolocator.geocode(location_str, addressdetails=True)\n",
    "\n",
    "        if location is not None:\n",
    "            location_address = location.address\n",
    "            province_name = find_province_name_in_address(location_address)\n",
    "            missing_provinces[i] = province_name\n",
    "\n",
    "    missing_location_provinces = pd.merge(\n",
    "        pd.DataFrame({'location': locations_wo_province}),\n",
    "        pd.DataFrame({'location': unique_locations_wo_province, 'province': missing_provinces}),\n",
    "        on='location',\n",
    "        how='inner'\n",
    "    )['province']\n",
    "    location_provinces.loc[location_provinces == 'nieznane'] = missing_location_provinces.values\n",
    "\n",
    "    return location_provinces\n",
    "\n",
    "\n",
    "df['wojewodztwo'] = get_province_names(df['lokalizacja'])\n",
    "df = df.drop(columns=['lokalizacja'])\n",
    "\n",
    "df['wojewodztwo'].value_counts()"
   ],
   "metadata": {
    "collapsed": false,
    "ExecuteTime": {
     "start_time": "2023-05-07T12:02:29.586413Z",
     "end_time": "2023-05-07T12:12:22.515893Z"
    }
   }
  },
  {
   "cell_type": "markdown",
   "source": [
    "Extract numerical features from the model generation column to avoid encoding high cardinality categorical feature"
   ],
   "metadata": {
    "collapsed": false
   }
  },
  {
   "cell_type": "code",
   "execution_count": 22,
   "outputs": [],
   "source": [
    "brand_model_grouped = df.groupby(['marka_pojazdu', 'model_pojazdu'], as_index=False)\n",
    "models_generations_info = dict()\n",
    "\n",
    "for (brand, model), subdf in brand_model_grouped:\n",
    "    model_info = dict()\n",
    "    n_generations = subdf['generacja'].dropna().nunique()\n",
    "\n",
    "    if n_generations > 1:\n",
    "        model_info['liczba_generacji_modelu'] = n_generations\n",
    "        try:\n",
    "            model_info['kolejnosc_generacji'] =  sorted(\n",
    "                list(subdf['generacja'].dropna().unique()),\n",
    "                key=lambda x: re.findall(r'\\((.*?)\\)', x)[0].split('-')[0],\n",
    "                reverse=True\n",
    "            )\n",
    "        except IndexError:\n",
    "            model_info['kolejnosc_generacji'] = []\n",
    "\n",
    "    else:\n",
    "        model_info['liczba_generacji_modelu'] = 1\n",
    "        model_info['kolejnosc_generacji'] = []\n",
    "\n",
    "    models_generations_info[(brand, model)] = model_info"
   ],
   "metadata": {
    "collapsed": false,
    "ExecuteTime": {
     "start_time": "2023-05-07T12:12:55.094618Z",
     "end_time": "2023-05-07T12:12:55.523538Z"
    }
   }
  },
  {
   "cell_type": "code",
   "execution_count": 23,
   "outputs": [],
   "source": [
    "def get_numbers_of_generations(row, info):\n",
    "    return info[(row['marka_pojazdu'], row['model_pojazdu'])]['liczba_generacji_modelu']\n",
    "\n",
    "def get_generation_order(row, info):\n",
    "    model_generations_order = info[(row['marka_pojazdu'], row['model_pojazdu'])]['kolejnosc_generacji']\n",
    "\n",
    "    if len(model_generations_order) == 0:\n",
    "        return 0\n",
    "\n",
    "    else:\n",
    "        try:\n",
    "            return model_generations_order.index(row['generacja'])\n",
    "        except ValueError:\n",
    "            return 0\n",
    "\n",
    "\n",
    "df['liczba_generacji_modelu'] = df.apply(get_numbers_of_generations, axis=1, args=(models_generations_info,))\n",
    "df['ktora_generacja_modelu'] = df.apply(get_generation_order, axis=1, args=(models_generations_info,))\n",
    "df = df.drop(columns=['generacja'])"
   ],
   "metadata": {
    "collapsed": false,
    "ExecuteTime": {
     "start_time": "2023-05-07T12:12:55.826959Z",
     "end_time": "2023-05-07T12:13:00.029226Z"
    }
   }
  },
  {
   "cell_type": "code",
   "execution_count": 25,
   "outputs": [],
   "source": [
    "df.to_csv(os.path.join(data_path, 'data_cleaned.csv'), index=False, sep=';')"
   ],
   "metadata": {
    "collapsed": false,
    "ExecuteTime": {
     "start_time": "2023-05-07T12:13:42.184720Z",
     "end_time": "2023-05-07T12:13:47.242543Z"
    }
   }
  }
 ],
 "metadata": {
  "kernelspec": {
   "display_name": "Python 3",
   "language": "python",
   "name": "python3"
  },
  "language_info": {
   "codemirror_mode": {
    "name": "ipython",
    "version": 2
   },
   "file_extension": ".py",
   "mimetype": "text/x-python",
   "name": "python",
   "nbconvert_exporter": "python",
   "pygments_lexer": "ipython2",
   "version": "2.7.6"
  }
 },
 "nbformat": 4,
 "nbformat_minor": 0
}
