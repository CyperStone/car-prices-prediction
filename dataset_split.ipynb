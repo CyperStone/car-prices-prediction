{
 "cells": [
  {
   "cell_type": "code",
   "execution_count": 5,
   "metadata": {
    "collapsed": true,
    "ExecuteTime": {
     "start_time": "2023-05-07T22:23:50.683037Z",
     "end_time": "2023-05-07T22:23:56.742380Z"
    }
   },
   "outputs": [],
   "source": [
    "import os\n",
    "import pandas as pd\n",
    "from sklearn.model_selection import train_test_split"
   ]
  },
  {
   "cell_type": "code",
   "execution_count": 2,
   "outputs": [],
   "source": [
    "data_path = './data'\n",
    "filename = 'data_cleaned.csv'"
   ],
   "metadata": {
    "collapsed": false,
    "ExecuteTime": {
     "start_time": "2023-05-07T22:15:31.729084Z",
     "end_time": "2023-05-07T22:15:31.741595Z"
    }
   }
  },
  {
   "cell_type": "code",
   "execution_count": 3,
   "outputs": [
    {
     "data": {
      "text/plain": "       cena  typ_sprzedawcy  marka_pojazdu model_pojazdu  przebieg  \\\n0   23200.0          Dealer          Volvo           V70  304000.0   \n1   16800.0  Osoba prywatna          Honda        Accord  236000.0   \n2  249900.0          Dealer  Mercedes-Benz       Klasa X   73000.0   \n3   16499.0          Dealer         Toyota       Avensis  220000.0   \n4   29900.0          Dealer           Ford         C-MAX  179058.0   \n\n   pojemnosc_skokowa rodzaj_paliwa    moc skrzynia_biegow typ_nadwozia  ...  \\\n0                1.6        Diesel  109.0        Manualna        Kombi  ...   \n1                2.0       Benzyna  155.0        Manualna        Sedan  ...   \n2                3.0        Diesel  258.0    Automatyczna          SUV  ...   \n3                1.8       Benzyna  129.0        Manualna        Kombi  ...   \n4                2.0        Diesel  140.0        Manualna      Minivan  ...   \n\n   hamulce_z_kompozytow_ceramicznych  opony_off-road nowy_pojazd  \\\n0                                  0               0           0   \n1                                  0               0           0   \n2                                  0               0           0   \n3                                  0               0           0   \n4                                  0               0           0   \n\n   gwarancja_dealerska brak_informacji_o_wyposazeniu  wiek_pojazdu  \\\n0                  0.0                             1            13   \n1                  0.0                             0            18   \n2                  0.0                             0             4   \n3                  0.0                             0            18   \n4                  0.0                             0            11   \n\n   gwarancja_producenta         wojewodztwo  liczba_generacji_modelu  \\\n0                   0.0  zachodniopomorskie                        3   \n1                   0.0  kujawsko-pomorskie                        8   \n2                   0.0         małopolskie                        1   \n3                   0.0  kujawsko-pomorskie                        3   \n4                   0.0             łódzkie                        2   \n\n   ktora_generacja_modelu  \n0                       0  \n1                       3  \n2                       0  \n3                       1  \n4                       0  \n\n[5 rows x 218 columns]",
      "text/html": "<div>\n<style scoped>\n    .dataframe tbody tr th:only-of-type {\n        vertical-align: middle;\n    }\n\n    .dataframe tbody tr th {\n        vertical-align: top;\n    }\n\n    .dataframe thead th {\n        text-align: right;\n    }\n</style>\n<table border=\"1\" class=\"dataframe\">\n  <thead>\n    <tr style=\"text-align: right;\">\n      <th></th>\n      <th>cena</th>\n      <th>typ_sprzedawcy</th>\n      <th>marka_pojazdu</th>\n      <th>model_pojazdu</th>\n      <th>przebieg</th>\n      <th>pojemnosc_skokowa</th>\n      <th>rodzaj_paliwa</th>\n      <th>moc</th>\n      <th>skrzynia_biegow</th>\n      <th>typ_nadwozia</th>\n      <th>...</th>\n      <th>hamulce_z_kompozytow_ceramicznych</th>\n      <th>opony_off-road</th>\n      <th>nowy_pojazd</th>\n      <th>gwarancja_dealerska</th>\n      <th>brak_informacji_o_wyposazeniu</th>\n      <th>wiek_pojazdu</th>\n      <th>gwarancja_producenta</th>\n      <th>wojewodztwo</th>\n      <th>liczba_generacji_modelu</th>\n      <th>ktora_generacja_modelu</th>\n    </tr>\n  </thead>\n  <tbody>\n    <tr>\n      <th>0</th>\n      <td>23200.0</td>\n      <td>Dealer</td>\n      <td>Volvo</td>\n      <td>V70</td>\n      <td>304000.0</td>\n      <td>1.6</td>\n      <td>Diesel</td>\n      <td>109.0</td>\n      <td>Manualna</td>\n      <td>Kombi</td>\n      <td>...</td>\n      <td>0</td>\n      <td>0</td>\n      <td>0</td>\n      <td>0.0</td>\n      <td>1</td>\n      <td>13</td>\n      <td>0.0</td>\n      <td>zachodniopomorskie</td>\n      <td>3</td>\n      <td>0</td>\n    </tr>\n    <tr>\n      <th>1</th>\n      <td>16800.0</td>\n      <td>Osoba prywatna</td>\n      <td>Honda</td>\n      <td>Accord</td>\n      <td>236000.0</td>\n      <td>2.0</td>\n      <td>Benzyna</td>\n      <td>155.0</td>\n      <td>Manualna</td>\n      <td>Sedan</td>\n      <td>...</td>\n      <td>0</td>\n      <td>0</td>\n      <td>0</td>\n      <td>0.0</td>\n      <td>0</td>\n      <td>18</td>\n      <td>0.0</td>\n      <td>kujawsko-pomorskie</td>\n      <td>8</td>\n      <td>3</td>\n    </tr>\n    <tr>\n      <th>2</th>\n      <td>249900.0</td>\n      <td>Dealer</td>\n      <td>Mercedes-Benz</td>\n      <td>Klasa X</td>\n      <td>73000.0</td>\n      <td>3.0</td>\n      <td>Diesel</td>\n      <td>258.0</td>\n      <td>Automatyczna</td>\n      <td>SUV</td>\n      <td>...</td>\n      <td>0</td>\n      <td>0</td>\n      <td>0</td>\n      <td>0.0</td>\n      <td>0</td>\n      <td>4</td>\n      <td>0.0</td>\n      <td>małopolskie</td>\n      <td>1</td>\n      <td>0</td>\n    </tr>\n    <tr>\n      <th>3</th>\n      <td>16499.0</td>\n      <td>Dealer</td>\n      <td>Toyota</td>\n      <td>Avensis</td>\n      <td>220000.0</td>\n      <td>1.8</td>\n      <td>Benzyna</td>\n      <td>129.0</td>\n      <td>Manualna</td>\n      <td>Kombi</td>\n      <td>...</td>\n      <td>0</td>\n      <td>0</td>\n      <td>0</td>\n      <td>0.0</td>\n      <td>0</td>\n      <td>18</td>\n      <td>0.0</td>\n      <td>kujawsko-pomorskie</td>\n      <td>3</td>\n      <td>1</td>\n    </tr>\n    <tr>\n      <th>4</th>\n      <td>29900.0</td>\n      <td>Dealer</td>\n      <td>Ford</td>\n      <td>C-MAX</td>\n      <td>179058.0</td>\n      <td>2.0</td>\n      <td>Diesel</td>\n      <td>140.0</td>\n      <td>Manualna</td>\n      <td>Minivan</td>\n      <td>...</td>\n      <td>0</td>\n      <td>0</td>\n      <td>0</td>\n      <td>0.0</td>\n      <td>0</td>\n      <td>11</td>\n      <td>0.0</td>\n      <td>łódzkie</td>\n      <td>2</td>\n      <td>0</td>\n    </tr>\n  </tbody>\n</table>\n<p>5 rows × 218 columns</p>\n</div>"
     },
     "execution_count": 3,
     "metadata": {},
     "output_type": "execute_result"
    }
   ],
   "source": [
    "df = pd.read_csv(os.path.join(data_path, filename), sep=';')\n",
    "df.head()"
   ],
   "metadata": {
    "collapsed": false,
    "ExecuteTime": {
     "start_time": "2023-05-07T22:15:38.571166Z",
     "end_time": "2023-05-07T22:15:40.542014Z"
    }
   }
  },
  {
   "cell_type": "markdown",
   "source": [
    "### Train / validation / test split"
   ],
   "metadata": {
    "collapsed": false
   }
  },
  {
   "cell_type": "markdown",
   "source": [
    "Dataset will be split in a stratified fashion based on two columns: brand and model"
   ],
   "metadata": {
    "collapsed": false
   }
  },
  {
   "cell_type": "code",
   "execution_count": 7,
   "outputs": [],
   "source": [
    "brand_and_models = df.apply(lambda row: f\"{row['marka_pojazdu'].replace(' ', '_')}_{row['model_pojazdu'].replace(' ', '_')}\", axis=1)\n",
    "brand_and_models_counts = brand_and_models.value_counts()\n",
    "brand_and_models[brand_and_models.isin(brand_and_models_counts[brand_and_models_counts < 3].index)] = 'temp'\n",
    "\n",
    "train, test, _, brand_and_models_test = train_test_split(df, brand_and_models, test_size=0.3, stratify=brand_and_models)\n",
    "\n",
    "brand_and_models_test_counts = brand_and_models_test.value_counts()\n",
    "brand_and_models_test[brand_and_models_test.isin(brand_and_models_test_counts[brand_and_models_test_counts < 2].index)] = 'temp'\n",
    "validation, test = train_test_split(test, test_size=0.5, stratify=brand_and_models_test)"
   ],
   "metadata": {
    "collapsed": false,
    "ExecuteTime": {
     "start_time": "2023-05-07T22:27:44.792169Z",
     "end_time": "2023-05-07T22:27:47.399218Z"
    }
   }
  },
  {
   "cell_type": "code",
   "execution_count": 19,
   "outputs": [
    {
     "data": {
      "text/plain": "                   Liczba próbek Procent udziału\nZbiór treningowy          137298          70.00%\nZbiór walidacyjny          29421          15.00%\nZbiór testowy              29421          15.00%",
      "text/html": "<div>\n<style scoped>\n    .dataframe tbody tr th:only-of-type {\n        vertical-align: middle;\n    }\n\n    .dataframe tbody tr th {\n        vertical-align: top;\n    }\n\n    .dataframe thead th {\n        text-align: right;\n    }\n</style>\n<table border=\"1\" class=\"dataframe\">\n  <thead>\n    <tr style=\"text-align: right;\">\n      <th></th>\n      <th>Liczba próbek</th>\n      <th>Procent udziału</th>\n    </tr>\n  </thead>\n  <tbody>\n    <tr>\n      <th>Zbiór treningowy</th>\n      <td>137298</td>\n      <td>70.00%</td>\n    </tr>\n    <tr>\n      <th>Zbiór walidacyjny</th>\n      <td>29421</td>\n      <td>15.00%</td>\n    </tr>\n    <tr>\n      <th>Zbiór testowy</th>\n      <td>29421</td>\n      <td>15.00%</td>\n    </tr>\n  </tbody>\n</table>\n</div>"
     },
     "execution_count": 19,
     "metadata": {},
     "output_type": "execute_result"
    }
   ],
   "source": [
    "splits_statistics = pd.DataFrame(\n",
    "    data={\n",
    "        'Liczba próbek': [len(train), len(validation), len(test)],\n",
    "        'Procent udziału': [f'{len(train)/len(df)*100:.2f}%', f'{len(validation)/len(df)*100:.2f}%', f'{len(test)/len(df)*100:.2f}%']\n",
    "    },\n",
    "    index=['Zbiór treningowy', 'Zbiór walidacyjny', 'Zbiór testowy']\n",
    ")\n",
    "splits_statistics"
   ],
   "metadata": {
    "collapsed": false,
    "ExecuteTime": {
     "start_time": "2023-05-07T22:47:19.642702Z",
     "end_time": "2023-05-07T22:47:19.663352Z"
    }
   }
  },
  {
   "cell_type": "code",
   "execution_count": 20,
   "outputs": [
    {
     "data": {
      "text/plain": "             Nazwa modelu Zbiór treningowy Zbiór walidacyjny Zbiór testowy\n0              Opel_Astra           2.176%            2.175%        2.179%\n1                 Audi_A4           1.983%            1.982%        1.982%\n2             BMW_Seria_3           1.940%            1.941%        1.941%\n3           Skoda_Octavia           1.913%            1.914%        1.914%\n4         Volkswagen_Golf           1.890%            1.890%        1.890%\n5             BMW_Seria_5           1.722%            1.720%        1.723%\n6              Ford_Focus           1.668%            1.669%        1.665%\n7       Volkswagen_Passat           1.637%            1.638%        1.638%\n8                 Audi_A6           1.513%            1.513%        1.513%\n9             Ford_Mondeo           1.249%            1.247%        1.251%\n10          Opel_Insignia           1.218%            1.217%        1.217%\n11         Renault_Megane           1.107%            1.108%        1.108%\n12                Audi_A3           1.075%            1.074%        1.074%\n13  Mercedes-Benz_Klasa_E           1.035%            1.033%        1.037%\n14           Skoda_Superb           1.020%            1.020%        1.020%\n15             Opel_Corsa           0.985%            0.986%        0.986%\n16  Mercedes-Benz_Klasa_C           0.975%            0.975%        0.975%\n17         Nissan_Qashqai           0.945%            0.945%        0.945%\n18            Skoda_Fabia           0.942%            0.942%        0.942%\n19           Kia_Sportage           0.942%            0.942%        0.942%",
      "text/html": "<div>\n<style scoped>\n    .dataframe tbody tr th:only-of-type {\n        vertical-align: middle;\n    }\n\n    .dataframe tbody tr th {\n        vertical-align: top;\n    }\n\n    .dataframe thead th {\n        text-align: right;\n    }\n</style>\n<table border=\"1\" class=\"dataframe\">\n  <thead>\n    <tr style=\"text-align: right;\">\n      <th></th>\n      <th>Nazwa modelu</th>\n      <th>Zbiór treningowy</th>\n      <th>Zbiór walidacyjny</th>\n      <th>Zbiór testowy</th>\n    </tr>\n  </thead>\n  <tbody>\n    <tr>\n      <th>0</th>\n      <td>Opel_Astra</td>\n      <td>2.176%</td>\n      <td>2.175%</td>\n      <td>2.179%</td>\n    </tr>\n    <tr>\n      <th>1</th>\n      <td>Audi_A4</td>\n      <td>1.983%</td>\n      <td>1.982%</td>\n      <td>1.982%</td>\n    </tr>\n    <tr>\n      <th>2</th>\n      <td>BMW_Seria_3</td>\n      <td>1.940%</td>\n      <td>1.941%</td>\n      <td>1.941%</td>\n    </tr>\n    <tr>\n      <th>3</th>\n      <td>Skoda_Octavia</td>\n      <td>1.913%</td>\n      <td>1.914%</td>\n      <td>1.914%</td>\n    </tr>\n    <tr>\n      <th>4</th>\n      <td>Volkswagen_Golf</td>\n      <td>1.890%</td>\n      <td>1.890%</td>\n      <td>1.890%</td>\n    </tr>\n    <tr>\n      <th>5</th>\n      <td>BMW_Seria_5</td>\n      <td>1.722%</td>\n      <td>1.720%</td>\n      <td>1.723%</td>\n    </tr>\n    <tr>\n      <th>6</th>\n      <td>Ford_Focus</td>\n      <td>1.668%</td>\n      <td>1.669%</td>\n      <td>1.665%</td>\n    </tr>\n    <tr>\n      <th>7</th>\n      <td>Volkswagen_Passat</td>\n      <td>1.637%</td>\n      <td>1.638%</td>\n      <td>1.638%</td>\n    </tr>\n    <tr>\n      <th>8</th>\n      <td>Audi_A6</td>\n      <td>1.513%</td>\n      <td>1.513%</td>\n      <td>1.513%</td>\n    </tr>\n    <tr>\n      <th>9</th>\n      <td>Ford_Mondeo</td>\n      <td>1.249%</td>\n      <td>1.247%</td>\n      <td>1.251%</td>\n    </tr>\n    <tr>\n      <th>10</th>\n      <td>Opel_Insignia</td>\n      <td>1.218%</td>\n      <td>1.217%</td>\n      <td>1.217%</td>\n    </tr>\n    <tr>\n      <th>11</th>\n      <td>Renault_Megane</td>\n      <td>1.107%</td>\n      <td>1.108%</td>\n      <td>1.108%</td>\n    </tr>\n    <tr>\n      <th>12</th>\n      <td>Audi_A3</td>\n      <td>1.075%</td>\n      <td>1.074%</td>\n      <td>1.074%</td>\n    </tr>\n    <tr>\n      <th>13</th>\n      <td>Mercedes-Benz_Klasa_E</td>\n      <td>1.035%</td>\n      <td>1.033%</td>\n      <td>1.037%</td>\n    </tr>\n    <tr>\n      <th>14</th>\n      <td>Skoda_Superb</td>\n      <td>1.020%</td>\n      <td>1.020%</td>\n      <td>1.020%</td>\n    </tr>\n    <tr>\n      <th>15</th>\n      <td>Opel_Corsa</td>\n      <td>0.985%</td>\n      <td>0.986%</td>\n      <td>0.986%</td>\n    </tr>\n    <tr>\n      <th>16</th>\n      <td>Mercedes-Benz_Klasa_C</td>\n      <td>0.975%</td>\n      <td>0.975%</td>\n      <td>0.975%</td>\n    </tr>\n    <tr>\n      <th>17</th>\n      <td>Nissan_Qashqai</td>\n      <td>0.945%</td>\n      <td>0.945%</td>\n      <td>0.945%</td>\n    </tr>\n    <tr>\n      <th>18</th>\n      <td>Skoda_Fabia</td>\n      <td>0.942%</td>\n      <td>0.942%</td>\n      <td>0.942%</td>\n    </tr>\n    <tr>\n      <th>19</th>\n      <td>Kia_Sportage</td>\n      <td>0.942%</td>\n      <td>0.942%</td>\n      <td>0.942%</td>\n    </tr>\n  </tbody>\n</table>\n</div>"
     },
     "execution_count": 20,
     "metadata": {},
     "output_type": "execute_result"
    }
   ],
   "source": [
    "train_stratas = train.apply(lambda row: f\"{row['marka_pojazdu'].replace(' ', '_')}_{row['model_pojazdu'].replace(' ', '_')}\", axis=1)\n",
    "validation_stratas = validation.apply(lambda row: f\"{row['marka_pojazdu'].replace(' ', '_')}_{row['model_pojazdu'].replace(' ', '_')}\", axis=1)\n",
    "test_stratas = test.apply(lambda row: f\"{row['marka_pojazdu'].replace(' ', '_')}_{row['model_pojazdu'].replace(' ', '_')}\", axis=1)\n",
    "\n",
    "train_stratas_counts = train_stratas.value_counts(normalize=True).apply(lambda x: f'{(100 * x):.3f}%')\n",
    "validation_stratas_counts = validation_stratas.value_counts(normalize=True).apply(lambda x: f'{(100 * x):.3f}%')\n",
    "test_stratas_counts = test_stratas.value_counts(normalize=True).apply(lambda x: f'{(100 * x):.3f}%')\n",
    "\n",
    "train_stratas_counts = train_stratas_counts.reset_index()\n",
    "train_stratas_counts.columns = ['Nazwa modelu', 'Zbiór treningowy']\n",
    "\n",
    "validation_stratas_counts = validation_stratas_counts.reset_index()\n",
    "validation_stratas_counts.columns = ['Nazwa modelu', 'Zbiór walidacyjny']\n",
    "\n",
    "test_stratas_counts = test_stratas_counts.reset_index()\n",
    "test_stratas_counts.columns = ['Nazwa modelu', 'Zbiór testowy']\n",
    "\n",
    "sets_comparison = pd.merge(train_stratas_counts, validation_stratas_counts, on='Nazwa modelu', how='left')\n",
    "sets_comparison = pd.merge(sets_comparison, test_stratas_counts, on='Nazwa modelu', how='left')\n",
    "\n",
    "sets_comparison.head(20)"
   ],
   "metadata": {
    "collapsed": false,
    "ExecuteTime": {
     "start_time": "2023-05-07T22:48:52.588062Z",
     "end_time": "2023-05-07T22:48:54.544989Z"
    }
   }
  },
  {
   "cell_type": "code",
   "execution_count": 21,
   "outputs": [],
   "source": [
    "train.to_csv(os.path.join(data_path, 'train.csv'), index=False, sep=';')\n",
    "validation.to_csv(os.path.join(data_path, 'validation.csv'), index=False, sep=';')\n",
    "test.to_csv(os.path.join(data_path, 'test.csv'), index=False, sep=';')"
   ],
   "metadata": {
    "collapsed": false,
    "ExecuteTime": {
     "start_time": "2023-05-07T22:49:52.586223Z",
     "end_time": "2023-05-07T22:49:57.548725Z"
    }
   }
  }
 ],
 "metadata": {
  "kernelspec": {
   "display_name": "Python 3",
   "language": "python",
   "name": "python3"
  },
  "language_info": {
   "codemirror_mode": {
    "name": "ipython",
    "version": 2
   },
   "file_extension": ".py",
   "mimetype": "text/x-python",
   "name": "python",
   "nbconvert_exporter": "python",
   "pygments_lexer": "ipython2",
   "version": "2.7.6"
  }
 },
 "nbformat": 4,
 "nbformat_minor": 0
}
